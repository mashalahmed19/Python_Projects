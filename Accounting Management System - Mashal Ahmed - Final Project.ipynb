class Account:
    def __init__(self, account_id, account_name, account_type, balance=0.0):
        self.__account_id = account_id
        self.__account_name = account_name
        self.__account_type = account_type
        self.__balance = balance

    # Accessor 
    def get_account_id(self):   
        return self.__account_id

    def get_account_name(self):
        return self.__account_name

    def get_account_type(self):
        return self.__account_type

    def get_balance(self):
        return self.__balance

    # Mutator 
    def set_account_name(self, account_name):
        self.__account_name = account_name

    def set_account_type(self, account_type):
        self.__account_type = account_type

    def set_balance(self, balance):
        self.__balance = balance

    # Method to convert account to string (for text file)
    def to_string(self):
        return f"{self.__account_id}|{self.__account_name}|{self.__account_type}|{self.__balance}"

    # Method to create account from string (for text file)
    @staticmethod
    def from_string(account_string):
        account_id, account_name, account_type, balance = account_string.strip().split('|')
        return Account(account_id, account_name, account_type, float(balance))


class Transaction:
    def __init__(self, transaction_id, date, amount, transaction_type, account_id):
        self.__transaction_id = transaction_id
        self.__date = date
        self.__amount = amount
        self.__transaction_type = transaction_type
        self.__account_id = account_id

    # Accessor 
    def get_transaction_id(self):
        return self.__transaction_id

    def get_date(self):
        return self.__date

    def get_amount(self):
        return self.__amount

    def get_transaction_type(self):
        return self.__transaction_type

    def get_account_id(self):
        return self.__account_id

    # Mutator 
    def set_date(self, date):
        self.__date = date

    def set_amount(self, amount):
        self.__amount = amount

    def set_transaction_type(self, transaction_type):
        self.__transaction_type = transaction_type

    def set_account_id(self, account_id):
        self.__account_id = account_id

    # Method to convert transaction to string (for text file)
    def to_string(self):
        return f"{self.__transaction_id}|{self.__date}|{self.__amount}|{self.__transaction_type}|{self.__account_id}"

    # Method to create transaction from string (for text file)
    @staticmethod
    def from_string(transaction_string):
        transaction_id, date, amount, transaction_type, account_id = transaction_string.strip().split('|')
        return Transaction(transaction_id, date, float(amount), transaction_type, account_id)


class AccountingSystem:
    def __init__(self):
        self.accounts = self.load_accounts()
        self.transactions = self.load_transactions()

    def load_accounts(self):
        accounts = {}
        try:
            with open('accounts.txt', 'r') as file:     # Read Text File
                for line in file:
                    account = Account.from_string(line)
                    accounts[account.get_account_id()] = account
        except FileNotFoundError:
            pass
        return accounts

    def load_transactions(self):
        transactions = {}
        try:
            with open('transactions.txt', 'r') as file:     # Read Text File
                for line in file:
                    transaction = Transaction.from_string(line)
                    transactions[transaction.get_transaction_id()] = transaction
        except FileNotFoundError:
            pass
        return transactions

    def save_accounts(self):
        with open('accounts.txt', 'w') as file:     # Write Text File
            for account in self.accounts.values():
                file.write(account.to_string() + '\n')

    def save_transactions(self):
        with open('transactions.txt', 'w') as file:    # Write Text File
            for transaction in self.transactions.values():
                file.write(transaction.to_string() + '\n')

    def add_account(self, account_id, account_name, account_type, balance=0.0):
        if account_id not in self.accounts:
            account = Account(account_id, account_name, account_type, balance)
            self.accounts[account_id] = account
            self.save_accounts()
            print(f"Account {account_name}, ID: {account_id},  added successfully with balance {balance}.")
        else:
            print("Account ID already exists!")  #Output when Account ID is already existed, it should be unique for every user

    def update_account(self, account_id, account_name=None, account_type=None):
        if account_id in self.accounts:
            account = self.accounts[account_id]
            if account_name:
                account.set_account_name(account_name)
            if account_type:
                account.set_account_type(account_type)
            self.save_accounts()
            print(f"Account updated successfully! \nName: {account_name}, ID: {account_id}, Type: {account_type}")
        else:
            print("Account not found.")    #Output when wrong Account ID is entered

    def record_transaction(self, transaction_id, date, amount, transaction_type, account_id):
        if account_id in self.accounts:
            transaction = Transaction(transaction_id, date, amount, transaction_type, account_id)
            account = self.accounts[account_id]
            if transaction_type == "debit":
                account.set_balance(account.get_balance() + amount)
                print(f"Transaction {transaction_id} recorded!\n {amount} is added to you account")
            elif transaction_type == "credit":
                if account.get_balance() >= amount:
                    account.set_balance(account.get_balance() - amount)
                    print(f"Transaction {transaction_id} recorded!\n {amount} is deducted from you account")
                else:
                    print("Insufficient funds for this transaction!")
                    return False
            self.transactions[transaction_id] = transaction
            self.save_accounts()
            self.save_transactions()
            
            return True
        else:
            print("Account not found!")
            return False

    def generate_account_balance_report(self):   # To Generate account-balance report
        for account_id, account in self.accounts.items():
            print(f"Account ID: {account_id}, Name: {account.get_account_name()}, Balance: {account.get_balance()}")

    def generate_transaction_history_report(self, account_id):       # To generate transaction history report
        if account_id in self.accounts:
            print(f"Transaction history for Account ID: {account_id}")
            for transaction_id, transaction in self.transactions.items():
                if transaction.get_account_id() == account_id:
                    print(f"Transaction ID: {transaction_id}, Date: {transaction.get_date()}, Amount: {transaction.get_amount()}, Type: {transaction.get_transaction_type()}")
        else:
            print("Account not found.")

    def generate_financial_summary_report(self):     # To generate financial summary report
            total_assets = 0
            total_liabilities = 0
            
            for account in self.accounts.values():
                if account.get_account_type() == "current":
                    total_assets += account.get_balance()
                elif account.get_account_type() == "saving":
                    total_liabilities += account.get_balance()
                    
                total_equity = total_assets - total_liabilities
            print(f'Total Assets: {total_assets}')
            print(f'Total Liabilities: {total_liabilities}')
            print(f'Total Equity: {total_equity}')


def main():
    system = AccountingSystem()

    while True:        # Loop runs until the user end it by himself/herself by the option from the menu
        
        # Menu / User Interface
        print("\nAccounting Management System")
        print("1. Add Account")
        print("2. Update Account")
        print("3. Record Transaction")
        print("4. Generate Account Balance Report")
        print("5. Generate Transaction History Report")
        print("6. Generate Financial Summary Report")
        print("7. Exit")
        
        choice = input("Enter your choice: ")

        if choice == '1':
            account_id = input("Enter Account ID: ")
            account_name = input("Enter Account Name: ")
            account_type = input("Enter Account Type: ")
            # Loop for checking user enter only "current" or "savings"
            while account_type not in ["current", "savings"]:
                print("Invalid input! \nPlease enter 'current' or 'savings'!")
                account_type = input("Enter the account type (current/savings): ").strip().lower()
            balance = float(input("Enter Initial Balance: "))
            system.add_account(account_id, account_name, account_type, balance)
        
        elif choice == '2':
            account_id = input("Enter Account ID: ")
            account_name = input("Enter New Account Name (leave blank to keep current): ")
            account_type = input("Enter New Account Type (leave blank to keep current): ")
            # Loop for checking user enter only "savings" or "current"
            while account_type not in ["savings", "current"]:
                print("Invalid input! \nPlease enter 'savings' or 'current'!")
                account_type = input("Enter the account type (savings/current): ").strip().lower()
            system.update_account(account_id, account_name if account_name else None, account_type if account_type else None)
        
        elif choice == '3':
            transaction_id = input("Enter Transaction ID: ")
            date = input("Enter Date (dd/mm/yyyy): ")
            amount = float(input("Enter Amount: "))
            transaction_type = input("Enter Transaction Type (credit/debit): ")
            # Loop for checking user enter only "debit" or "credit"
            while transaction_type not in ["debit", "credit"]:
                print("Invalid input! \nPlease enter 'debit' or 'credit'!")
                transaction_type = input("Enter the transaction type (debit/credit): ").strip().lower()
            account_id = input("Enter Account ID: ")
            system.record_transaction(transaction_id, date, amount, transaction_type, account_id)
        
        elif choice == '4':
            print("\nAccount-Balance Report is as following: \n")
            system.generate_account_balance_report()
        
        elif choice == '5':
            account_id = input("Enter Account ID: ")
            print("\nTransaction-History is as following: \n")
            system.generate_transaction_history_report(account_id)
        
        elif choice == '6':
            print("\nFinancial Summary Report is as following: \n")
            system.generate_financial_summary_report()
        
        elif choice == '7':
            break
        
        else:
            print("Invalid choice! \nPlease enter correct!")

if __name__ == "__main__":
    main()
